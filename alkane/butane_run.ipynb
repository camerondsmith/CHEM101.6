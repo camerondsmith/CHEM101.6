{
 "cells": [
  {
   "cell_type": "code",
   "execution_count": 1,
   "id": "f6343416",
   "metadata": {},
   "outputs": [],
   "source": [
    "from simtk.openmm import app\n",
    "import simtk.openmm as mm\n",
    "from simtk import unit\n",
    "pdb = app.PDBFile('butane.pdb')\n",
    "forcefield = app.ForceField('butane.gaff2.xml')\n",
    "system = forcefield.createSystem(pdb.topology, nonbondedMethod=app.NoCutoff, constraints=app.HBonds)\n",
    "integrator = mm.LangevinIntegrator(298.15*unit.kelvin, 5.0/unit.picoseconds, 2.0*unit.femtoseconds)\n",
    "integrator.setConstraintTolerance(1e-5)\n",
    "platform = mm.Platform.getPlatformByName('Reference')\n",
    "simulation = app.Simulation(pdb.topology, system, integrator, platform)\n",
    "simulation.context.setPositions(pdb.positions)"
   ]
  },
  {
   "cell_type": "code",
   "execution_count": 2,
   "id": "20006fe9",
   "metadata": {},
   "outputs": [
    {
     "name": "stdout",
     "output_type": "stream",
     "text": [
      "Minimizing...\n",
      "Potential energy before minimization is 5.797528654036221 kJ/mol\n",
      "Potential energy after minimization is 5.295784444937283 kJ/mol\n"
     ]
    }
   ],
   "source": [
    "print('Minimizing...')\n",
    "\n",
    "st = simulation.context.getState(getPositions=True,getEnergy=True)\n",
    "print(F\"Potential energy before minimization is {st.getPotentialEnergy()}\")\n",
    "\n",
    "simulation.minimizeEnergy(maxIterations=100)\n",
    "\n",
    "st = simulation.context.getState(getPositions=True,getEnergy=True)\n",
    "print(F\"Potential energy after minimization is {st.getPotentialEnergy()}\")"
   ]
  },
  {
   "cell_type": "code",
   "execution_count": 3,
   "id": "bca60607",
   "metadata": {},
   "outputs": [
    {
     "name": "stdout",
     "output_type": "stream",
     "text": [
      "Equilibrating...\n",
      "#\"Step\",\"Potential Energy (kJ/mole)\",\"Temperature (K)\"\n",
      "250,25.681036534494396,326.70336343339477\n",
      "500,40.004743766057054,250.10974268198007\n",
      "750,37.38463557284553,428.9841107507136\n",
      "1000,66.15505505856767,291.4784892493697\n",
      "1250,30.968409904156758,414.75074031358173\n",
      "1500,30.527989446793548,233.8808469300103\n",
      "1750,33.9554694304348,296.04630351747863\n",
      "2000,46.376735790756655,251.05419280284409\n",
      "2250,46.96566968699414,210.61939361493108\n",
      "2500,44.11659132760187,231.97879632406935\n",
      "2750,41.15239291232457,414.61784081038473\n",
      "3000,43.36132979376796,256.5030351190406\n",
      "3250,32.51229160581751,476.64224956779543\n",
      "3500,63.85785221384515,230.22943829361466\n",
      "3750,45.834562219572675,298.6900667493698\n",
      "4000,76.32010872180426,359.11783281787444\n",
      "4250,32.07853153235199,223.107398009778\n",
      "4500,34.568497182802226,348.2990386062612\n",
      "4750,45.853327884796464,188.69415089159335\n",
      "5000,45.95950697618548,308.9148992467615\n"
     ]
    }
   ],
   "source": [
    "from sys import stdout\n",
    "\n",
    "print('Equilibrating...')\n",
    "\n",
    "simulation.reporters.append(app.StateDataReporter(stdout, 250, step=True, \n",
    "    potentialEnergy=True, temperature=True, separator=','))\n",
    "simulation.context.setVelocitiesToTemperature(150.0*unit.kelvin)\n",
    "simulation.step(5000)"
   ]
  },
  {
   "cell_type": "code",
   "execution_count": 4,
   "id": "63e4ccd9",
   "metadata": {},
   "outputs": [
    {
     "name": "stdout",
     "output_type": "stream",
     "text": [
      "Running Production\n",
      "#\"Step\",\"Time (ps)\",\"Potential Energy (kJ/mole)\",\"Temperature (K)\",\"Speed (ns/day)\"\n",
      "500000,999.9999999901769,34.30501752522847,158.56774693281582,0\n",
      "1000000,1999.9999999665301,30.7493449452922,416.6774939564473,1.63e+04\n",
      "1500000,2999.9999999428833,32.42238763320715,302.34176854445604,1.63e+04\n",
      "2000000,3999.9999999192364,41.31171117729838,256.2662645007854,1.62e+04\n",
      "2500000,5000.000000101135,34.26054472640648,380.8029739067473,1.61e+04\n",
      "3000000,6000.000000304862,49.00276841622885,366.63684079383313,1.61e+04\n",
      "3500000,7000.0000005085885,42.960783108855736,291.5114076369063,1.61e+04\n",
      "4000000,8000.000000712315,44.922505802412395,151.70825889183178,1.62e+04\n",
      "4500000,9000.000000916041,31.523159591575624,179.02583793068973,1.62e+04\n",
      "5000000,10000.000001119768,46.45523599582569,311.0229204208048,1.62e+04\n",
      "5500000,11000.000001323495,44.51616724620192,228.07175637963599,1.62e+04\n",
      "6000000,12000.000001527222,51.24809284531176,294.75441150702096,1.62e+04\n",
      "6500000,13000.000001730948,29.690802128661254,330.6039651795952,1.62e+04\n",
      "7000000,14000.000001934675,47.04221649595073,333.8347268585111,1.62e+04\n",
      "7500000,15000.000002138402,45.35595983672748,192.3396737248696,1.62e+04\n",
      "8000000,16000.000002342129,37.670888882274845,249.31557893988997,1.62e+04\n",
      "8500000,17000.000002545854,37.956191452782534,401.95718017554253,1.62e+04\n",
      "9000000,18000.00000274958,38.877489368475274,379.023571848703,1.62e+04\n",
      "9500000,19000.000002953308,62.72440142616953,252.85238668117455,1.62e+04\n",
      "10000000,20000.000003157034,51.450273763633575,306.9886553287615,1.62e+04\n",
      "10500000,21000.00000336076,30.071167074221766,346.24287579175075,1.62e+04\n",
      "11000000,22000.000003564488,31.236737442257557,206.93249323428518,1.62e+04\n",
      "11500000,23000.000003768215,41.261858457488906,341.3792601323226,1.62e+04\n",
      "12000000,24000.00000397194,39.40625311283406,323.11354887742954,1.62e+04\n",
      "12500000,25000.00000417567,69.69523828314486,452.59473355741574,1.62e+04\n",
      "13000000,26000.000004379395,35.783988196060726,374.2029970829906,1.62e+04\n",
      "13500000,27000.000004583122,66.43276034574691,211.48494527844585,1.62e+04\n",
      "14000000,28000.00000478685,46.2445583457831,171.3150630199321,1.62e+04\n",
      "14500000,29000.000004990576,43.487697962767,252.08148208740965,1.62e+04\n",
      "15000000,30000.000005194303,31.50518515684961,241.99816772175433,1.62e+04\n",
      "15500000,31000.00000539803,47.169116801416656,270.3182637920281,1.62e+04\n",
      "16000000,32000.000005601756,34.72892186910751,309.059438769428,1.62e+04\n",
      "16500000,33000.00000580548,37.65752349920875,412.4906091494094,1.62e+04\n",
      "17000000,34000.000006009206,57.0151970054656,464.17062978739597,1.62e+04\n",
      "17500000,35000.00000621293,45.34259170621869,354.02374601315125,1.62e+04\n",
      "18000000,36000.00000641666,33.37950034180457,328.1480080540468,1.62e+04\n",
      "18500000,37000.00000662039,46.60734238039298,249.85027557179038,1.62e+04\n",
      "19000000,38000.00000682411,37.747993750234954,375.60026260436035,1.62e+04\n",
      "19500000,39000.00000702784,35.54969645464227,345.46186669041816,1.62e+04\n",
      "20000000,40000.00000723157,25.033315082576273,226.7980087872397,1.62e+04\n",
      "Done!\n",
      "Time required for simulation: 213.2150101661682 seconds\n"
     ]
    }
   ],
   "source": [
    "import time as time\n",
    "\n",
    "print('Running Production')\n",
    "\n",
    "# begin timer\n",
    "tinit=time.time()\n",
    "\n",
    "# clear simulation reporters\n",
    "simulation.reporters.clear()\n",
    "\n",
    "# reinitialize simulation reporters. Done because we want different information printed from the production run\n",
    "# than the equilibriation run. \n",
    "# output basic simulation information below every 500,000 steps - 2 x 500,000 = 1,000,000fs or 1ns\n",
    "simulation.reporters.append(app.StateDataReporter(stdout, 500000, step=True, time=True, potentialEnergy=True,\n",
    "                            temperature=True, speed=True, separator=','))\n",
    "\n",
    "# write traj to a DCD file every 100 steps - 0.2ps\n",
    "simulation.reporters.append(app.DCDReporter('butane_sim.dcd', 100))\n",
    "\n",
    "# run simulation for 2.0x10^7 steps - 40ns\n",
    "simulation.step(20000000)\n",
    "\n",
    "# end timer\n",
    "tfinal=time.time()\n",
    "print('Done!')\n",
    "print('Time required for simulation:', tfinal-tinit, 'seconds')"
   ]
  },
  {
   "cell_type": "code",
   "execution_count": null,
   "id": "d7346c90",
   "metadata": {},
   "outputs": [],
   "source": []
  }
 ],
 "metadata": {
  "kernelspec": {
   "display_name": "Python 3",
   "language": "python",
   "name": "python3"
  },
  "language_info": {
   "codemirror_mode": {
    "name": "ipython",
    "version": 3
   },
   "file_extension": ".py",
   "mimetype": "text/x-python",
   "name": "python",
   "nbconvert_exporter": "python",
   "pygments_lexer": "ipython3",
   "version": "3.6.13"
  }
 },
 "nbformat": 4,
 "nbformat_minor": 5
}
