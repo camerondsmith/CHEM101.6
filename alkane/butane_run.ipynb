{
 "cells": [
  {
   "cell_type": "code",
   "execution_count": 1,
   "id": "f6343416",
   "metadata": {},
   "outputs": [],
   "source": [
    "from simtk.openmm import app\n",
    "import simtk.openmm as mm\n",
    "from simtk import unit\n",
    "pdb = app.PDBFile('butane.pdb')\n",
    "forcefield = app.ForceField('butane.gaff2.xml')\n",
    "system = forcefield.createSystem(pdb.topology, nonbondedMethod=app.NoCutoff, constraints=app.HBonds)\n",
    "integrator = mm.LangevinIntegrator(298.15*unit.kelvin, 5.0/unit.picoseconds, 2.0*unit.femtoseconds)\n",
    "integrator.setConstraintTolerance(1e-5)\n",
    "platform = mm.Platform.getPlatformByName('Reference')\n",
    "simulation = app.Simulation(pdb.topology, system, integrator, platform)\n",
    "simulation.context.setPositions(pdb.positions)"
   ]
  },
  {
   "cell_type": "code",
   "execution_count": 2,
   "id": "20006fe9",
   "metadata": {},
   "outputs": [
    {
     "name": "stdout",
     "output_type": "stream",
     "text": [
      "Minimizing...\n",
      "Potential energy before minimization is 5.797528654036221 kJ/mol\n",
      "Potential energy after minimization is 5.295784444937283 kJ/mol\n"
     ]
    }
   ],
   "source": [
    "print('Minimizing...')\n",
    "\n",
    "st = simulation.context.getState(getPositions=True,getEnergy=True)\n",
    "print(F\"Potential energy before minimization is {st.getPotentialEnergy()}\")\n",
    "\n",
    "simulation.minimizeEnergy(maxIterations=100)\n",
    "\n",
    "st = simulation.context.getState(getPositions=True,getEnergy=True)\n",
    "print(F\"Potential energy after minimization is {st.getPotentialEnergy()}\")"
   ]
  },
  {
   "cell_type": "code",
   "execution_count": 3,
   "id": "bca60607",
   "metadata": {},
   "outputs": [
    {
     "name": "stdout",
     "output_type": "stream",
     "text": [
      "Equilibrating...\n",
      "#\"Step\",\"Potential Energy (kJ/mole)\",\"Temperature (K)\"\n",
      "250,36.05758560333252,276.8625504638155\n",
      "500,52.19157200473939,235.40694997726024\n",
      "750,36.587560676547845,280.78991056837424\n",
      "1000,53.672112347141905,239.0270442172113\n",
      "1250,34.633036878180086,355.7250809436695\n",
      "1500,36.78155591914501,503.5796473340101\n",
      "1750,41.32437519571456,359.8177771490838\n",
      "2000,49.14354635845191,260.36456007050856\n",
      "2250,46.351201075089364,271.505839401424\n",
      "2500,32.15161545047509,285.9425538359459\n",
      "2750,50.1972800588828,254.26200282062268\n",
      "3000,33.22957975512809,405.09169576261627\n",
      "3250,61.411342620584776,408.6345089591258\n",
      "3500,32.326539961371296,229.65999865138738\n",
      "3750,29.224485545279535,233.27248709607633\n",
      "4000,50.594091236695064,431.44185562823685\n",
      "4250,32.687064612574105,275.36922885364754\n",
      "4500,53.56172253960301,223.8298598318665\n",
      "4750,28.136991184011446,489.1794172891284\n",
      "5000,38.732704063233754,167.61793597173983\n"
     ]
    }
   ],
   "source": [
    "from sys import stdout\n",
    "\n",
    "print('Equilibrating...')\n",
    "\n",
    "simulation.reporters.append(app.StateDataReporter(stdout, 250, step=True, \n",
    "    potentialEnergy=True, temperature=True, separator=','))\n",
    "simulation.context.setVelocitiesToTemperature(150.0*unit.kelvin)\n",
    "simulation.step(5000)"
   ]
  },
  {
   "cell_type": "code",
   "execution_count": 4,
   "id": "63e4ccd9",
   "metadata": {},
   "outputs": [
    {
     "name": "stdout",
     "output_type": "stream",
     "text": [
      "Running Production\n",
      "#\"Step\",\"Time (ps)\",\"Potential Energy (kJ/mole)\",\"Temperature (K)\",\"Speed (ns/day)\"\n",
      "500000,999.9999999901769,49.69542957404052,231.25900400690563,0\n",
      "1000000,1999.9999999665301,36.30749118373592,343.6134144231927,1.59e+04\n",
      "1500000,2999.9999999428833,42.14822659203023,324.05735204227733,1.5e+04\n",
      "2000000,3999.9999999192364,54.60915595723155,287.3741766775191,1.44e+04\n",
      "2500000,5000.000000101135,53.22783518393337,285.80750043680496,1.48e+04\n",
      "3000000,6000.000000304862,35.29690486759805,292.65708278893015,1.48e+04\n",
      "3500000,7000.0000005085885,53.267932083281615,197.73617424179008,1.48e+04\n",
      "4000000,8000.000000712315,26.930763167915643,278.5556030135441,1.49e+04\n",
      "4500000,9000.000000916041,34.814127441836774,213.99207778422704,1.49e+04\n",
      "5000000,10000.000001119768,47.716465376333126,194.11460533170893,1.51e+04\n",
      "5500000,11000.000001323495,40.284279056653446,143.38098834188514,1.51e+04\n",
      "6000000,12000.000001527222,42.946061884276354,206.5010439183192,1.51e+04\n",
      "6500000,13000.000001730948,52.4170599509866,275.2660591638894,1.51e+04\n",
      "7000000,14000.000001934675,47.35546804876025,347.9661568612207,1.51e+04\n",
      "7500000,15000.000002138402,39.671246961910875,219.3150581358965,1.51e+04\n",
      "8000000,16000.000002342129,42.99787787704063,282.03448589450056,1.51e+04\n",
      "8500000,17000.000002545854,37.632116464414494,166.08793006289696,1.52e+04\n",
      "9000000,18000.00000274958,39.33192381899541,309.6487368699937,1.51e+04\n",
      "9500000,19000.000002953308,39.55686946200157,333.9777203380884,1.51e+04\n",
      "10000000,20000.000003157034,30.87708365983991,461.6017524048408,1.51e+04\n",
      "10500000,21000.00000336076,29.59256253389188,407.86696222445215,1.51e+04\n",
      "11000000,22000.000003564488,51.55604721117636,373.9160874127229,1.51e+04\n",
      "11500000,23000.000003768215,34.50729285973943,322.02754230827287,1.51e+04\n",
      "12000000,24000.00000397194,39.083812693442596,281.38030873889693,1.5e+04\n",
      "12500000,25000.00000417567,42.7594096896717,293.1469373135298,1.5e+04\n",
      "13000000,26000.000004379395,36.58803935193048,168.73779006308578,1.5e+04\n",
      "13500000,27000.000004583122,46.17030413259411,356.0640328096305,1.5e+04\n",
      "14000000,28000.00000478685,27.613550733418556,400.5676362523213,1.5e+04\n",
      "14500000,29000.000004990576,23.780514136448453,309.63063632486984,1.5e+04\n",
      "15000000,30000.000005194303,38.141861838216684,352.2329176980428,1.5e+04\n",
      "15500000,31000.00000539803,41.36766397756039,316.76496880813943,1.5e+04\n",
      "16000000,32000.000005601756,45.66681402462862,261.868926129678,1.5e+04\n",
      "16500000,33000.00000580548,53.458225810404215,239.36512285976158,1.5e+04\n",
      "17000000,34000.000006009206,49.09386049877807,439.12446031098057,1.5e+04\n",
      "17500000,35000.00000621293,44.02033124309952,375.1547213179828,1.5e+04\n",
      "18000000,36000.00000641666,30.825063626721153,190.61770143260162,1.5e+04\n",
      "18500000,37000.00000662039,37.40536569304043,263.75920436219434,1.51e+04\n",
      "19000000,38000.00000682411,36.81614627989776,392.78674793237894,1.51e+04\n",
      "19500000,39000.00000702784,53.267890055175165,307.8405709309401,1.51e+04\n",
      "20000000,40000.00000723157,51.80369779095606,269.1827965646273,1.51e+04\n",
      "Done!\n",
      "Time required for simulation: 228.88371801376343 seconds\n"
     ]
    }
   ],
   "source": [
    "import time as time\n",
    "\n",
    "print('Running Production')\n",
    "\n",
    "# begin timer\n",
    "tinit=time.time()\n",
    "\n",
    "# clear simulation reporters\n",
    "simulation.reporters.clear()\n",
    "\n",
    "# reinitialize simulation reporters. Done because we want different information printed from the production run\n",
    "# than the equilibriation run. \n",
    "# output basic simulation information below every 500,000 steps - 2 x 500,000 = 1,000,000fs or 1ns\n",
    "simulation.reporters.append(app.StateDataReporter(stdout, 500000, step=True, time=True, potentialEnergy=True,\n",
    "                            temperature=True, speed=True, separator=','))\n",
    "\n",
    "# write traj to a DCD file every 100 steps - 0.2ps\n",
    "simulation.reporters.append(app.DCDReporter('butane_sim.dcd', 100))\n",
    "\n",
    "# run simulation for 2.0x10^7 steps - 40ns\n",
    "simulation.step(20000000)\n",
    "\n",
    "# end timer\n",
    "tfinal=time.time()\n",
    "print('Done!')\n",
    "print('Time required for simulation:', tfinal-tinit, 'seconds')"
   ]
  },
  {
   "cell_type": "code",
   "execution_count": 5,
   "id": "d7346c90",
   "metadata": {},
   "outputs": [],
   "source": [
    "import mdtraj as md\n",
    "\n",
    "traj = md.load('butane_sim.dcd', top='butane.pdb')"
   ]
  },
  {
   "cell_type": "code",
   "execution_count": 6,
   "id": "6619645b",
   "metadata": {},
   "outputs": [
    {
     "data": {
      "application/vnd.jupyter.widget-view+json": {
       "model_id": "c4db0bf7d23a43ca820d5ee78753be81",
       "version_major": 2,
       "version_minor": 0
      },
      "text/plain": []
     },
     "metadata": {},
     "output_type": "display_data"
    },
    {
     "data": {
      "application/vnd.jupyter.widget-view+json": {
       "model_id": "f9b34924708d44a4bceb372c07d37c6f",
       "version_major": 2,
       "version_minor": 0
      },
      "text/plain": [
       "NGLWidget(max_frame=199999)"
      ]
     },
     "metadata": {},
     "output_type": "display_data"
    }
   ],
   "source": [
    "import nglview as ngl\n",
    "\n",
    "visualize = ngl.show_mdtraj(traj)\n",
    "visualize"
   ]
  },
  {
   "cell_type": "raw",
   "id": "f89be406",
   "metadata": {},
   "source": [
    "Issues with pip install of nglview not running, use:\n",
    "conda install nglview -c conda-forge\n",
    "\n",
    "Remove nglview-js-widgets and reinstall as per:\n",
    "https://github.com/nglviewer/nglview/issues/718"
   ]
  },
  {
   "cell_type": "code",
   "execution_count": 7,
   "id": "20e5bcc0",
   "metadata": {},
   "outputs": [
    {
     "data": {
      "text/html": [
       "<div>\n",
       "<style scoped>\n",
       "    .dataframe tbody tr th:only-of-type {\n",
       "        vertical-align: middle;\n",
       "    }\n",
       "\n",
       "    .dataframe tbody tr th {\n",
       "        vertical-align: top;\n",
       "    }\n",
       "\n",
       "    .dataframe thead th {\n",
       "        text-align: right;\n",
       "    }\n",
       "</style>\n",
       "<table border=\"1\" class=\"dataframe\">\n",
       "  <thead>\n",
       "    <tr style=\"text-align: right;\">\n",
       "      <th></th>\n",
       "      <th>serial</th>\n",
       "      <th>name</th>\n",
       "      <th>element</th>\n",
       "      <th>resSeq</th>\n",
       "      <th>resName</th>\n",
       "      <th>chainID</th>\n",
       "      <th>segmentID</th>\n",
       "    </tr>\n",
       "  </thead>\n",
       "  <tbody>\n",
       "    <tr>\n",
       "      <th>0</th>\n",
       "      <td>1</td>\n",
       "      <td>C1</td>\n",
       "      <td>C</td>\n",
       "      <td>1</td>\n",
       "      <td>NBU</td>\n",
       "      <td>0</td>\n",
       "      <td></td>\n",
       "    </tr>\n",
       "    <tr>\n",
       "      <th>1</th>\n",
       "      <td>2</td>\n",
       "      <td>H11</td>\n",
       "      <td>H</td>\n",
       "      <td>1</td>\n",
       "      <td>NBU</td>\n",
       "      <td>0</td>\n",
       "      <td></td>\n",
       "    </tr>\n",
       "    <tr>\n",
       "      <th>2</th>\n",
       "      <td>3</td>\n",
       "      <td>H12</td>\n",
       "      <td>H</td>\n",
       "      <td>1</td>\n",
       "      <td>NBU</td>\n",
       "      <td>0</td>\n",
       "      <td></td>\n",
       "    </tr>\n",
       "    <tr>\n",
       "      <th>3</th>\n",
       "      <td>4</td>\n",
       "      <td>H13</td>\n",
       "      <td>H</td>\n",
       "      <td>1</td>\n",
       "      <td>NBU</td>\n",
       "      <td>0</td>\n",
       "      <td></td>\n",
       "    </tr>\n",
       "    <tr>\n",
       "      <th>4</th>\n",
       "      <td>5</td>\n",
       "      <td>C2</td>\n",
       "      <td>C</td>\n",
       "      <td>1</td>\n",
       "      <td>NBU</td>\n",
       "      <td>0</td>\n",
       "      <td></td>\n",
       "    </tr>\n",
       "    <tr>\n",
       "      <th>5</th>\n",
       "      <td>6</td>\n",
       "      <td>H21</td>\n",
       "      <td>H</td>\n",
       "      <td>1</td>\n",
       "      <td>NBU</td>\n",
       "      <td>0</td>\n",
       "      <td></td>\n",
       "    </tr>\n",
       "    <tr>\n",
       "      <th>6</th>\n",
       "      <td>7</td>\n",
       "      <td>H22</td>\n",
       "      <td>H</td>\n",
       "      <td>1</td>\n",
       "      <td>NBU</td>\n",
       "      <td>0</td>\n",
       "      <td></td>\n",
       "    </tr>\n",
       "    <tr>\n",
       "      <th>7</th>\n",
       "      <td>8</td>\n",
       "      <td>C3</td>\n",
       "      <td>C</td>\n",
       "      <td>1</td>\n",
       "      <td>NBU</td>\n",
       "      <td>0</td>\n",
       "      <td></td>\n",
       "    </tr>\n",
       "    <tr>\n",
       "      <th>8</th>\n",
       "      <td>9</td>\n",
       "      <td>H31</td>\n",
       "      <td>H</td>\n",
       "      <td>1</td>\n",
       "      <td>NBU</td>\n",
       "      <td>0</td>\n",
       "      <td></td>\n",
       "    </tr>\n",
       "    <tr>\n",
       "      <th>9</th>\n",
       "      <td>10</td>\n",
       "      <td>H32</td>\n",
       "      <td>H</td>\n",
       "      <td>1</td>\n",
       "      <td>NBU</td>\n",
       "      <td>0</td>\n",
       "      <td></td>\n",
       "    </tr>\n",
       "    <tr>\n",
       "      <th>10</th>\n",
       "      <td>11</td>\n",
       "      <td>C4</td>\n",
       "      <td>C</td>\n",
       "      <td>1</td>\n",
       "      <td>NBU</td>\n",
       "      <td>0</td>\n",
       "      <td></td>\n",
       "    </tr>\n",
       "    <tr>\n",
       "      <th>11</th>\n",
       "      <td>12</td>\n",
       "      <td>H41</td>\n",
       "      <td>H</td>\n",
       "      <td>1</td>\n",
       "      <td>NBU</td>\n",
       "      <td>0</td>\n",
       "      <td></td>\n",
       "    </tr>\n",
       "    <tr>\n",
       "      <th>12</th>\n",
       "      <td>13</td>\n",
       "      <td>H42</td>\n",
       "      <td>H</td>\n",
       "      <td>1</td>\n",
       "      <td>NBU</td>\n",
       "      <td>0</td>\n",
       "      <td></td>\n",
       "    </tr>\n",
       "    <tr>\n",
       "      <th>13</th>\n",
       "      <td>14</td>\n",
       "      <td>H43</td>\n",
       "      <td>H</td>\n",
       "      <td>1</td>\n",
       "      <td>NBU</td>\n",
       "      <td>0</td>\n",
       "      <td></td>\n",
       "    </tr>\n",
       "  </tbody>\n",
       "</table>\n",
       "</div>"
      ],
      "text/plain": [
       "    serial name element  resSeq resName  chainID segmentID\n",
       "0        1   C1       C       1     NBU        0          \n",
       "1        2  H11       H       1     NBU        0          \n",
       "2        3  H12       H       1     NBU        0          \n",
       "3        4  H13       H       1     NBU        0          \n",
       "4        5   C2       C       1     NBU        0          \n",
       "5        6  H21       H       1     NBU        0          \n",
       "6        7  H22       H       1     NBU        0          \n",
       "7        8   C3       C       1     NBU        0          \n",
       "8        9  H31       H       1     NBU        0          \n",
       "9       10  H32       H       1     NBU        0          \n",
       "10      11   C4       C       1     NBU        0          \n",
       "11      12  H41       H       1     NBU        0          \n",
       "12      13  H42       H       1     NBU        0          \n",
       "13      14  H43       H       1     NBU        0          "
      ]
     },
     "execution_count": 7,
     "metadata": {},
     "output_type": "execute_result"
    }
   ],
   "source": [
    "atoms, bonds = traj.topology.to_dataframe()\n",
    "atoms"
   ]
  },
  {
   "cell_type": "code",
   "execution_count": 8,
   "id": "755fcd2c",
   "metadata": {},
   "outputs": [],
   "source": [
    "phi_indices = [0, 4, 7, 10] # atoms for torsion\n",
    "phi = md.compute_dihedrals(traj, [phi_indices])"
   ]
  },
  {
   "cell_type": "code",
   "execution_count": 9,
   "id": "3b31769b",
   "metadata": {},
   "outputs": [
    {
     "data": {
      "image/png": "[encoded data removed]",
      "text/plain": [
       "<Figure size 432x288 with 1 Axes>"
      ]
     },
     "metadata": {
      "needs_background": "light"
     },
     "output_type": "display_data"
    }
   ],
   "source": [
    "import matplotlib.pyplot as plt\n",
    "\n",
    "phicounts, binedges, otherstuff = plt.hist(phi, bins=90)\n",
    "plt.title('C-C-C-C torsion angle')\n",
    "plt.xlabel(r'$\\phi$ (rad)')\n",
    "plt.ylabel('Counts')\n",
    "plt.show()"
   ]
  },
  {
   "cell_type": "code",
   "execution_count": 10,
   "id": "8f69f49b",
   "metadata": {},
   "outputs": [
    {
     "data": {
      "image/png": "[encoded data removed]",
      "text/plain": [
       "<Figure size 432x288 with 1 Axes>"
      ]
     },
     "metadata": {
      "needs_background": "light"
     },
     "output_type": "display_data"
    }
   ],
   "source": [
    "import numpy as np\n",
    "\n",
    "kB = 8.31446/1000 # Boltzmann constant in kJ/mol\n",
    "Temp = 298.15 # simulation temperature\n",
    "phicounts[phicounts==0] = 0.1 # get rid of any bins with 0 counts/infinite energy\n",
    "pmf = -kB*Temp*np.log(phicounts) # W(x) = -kT*ln[p(x)] = -kT*ln[n(x)] + C\n",
    "pmf = pmf - np.min(pmf) # subtract off minimum value so that energies start from 0\n",
    "\n",
    "bincenters = (binedges[1:] + binedges[:-1])/2 # compute centers of histogram bins\n",
    "\n",
    "plt.plot(bincenters, pmf)\n",
    "plt.title('C-C-C-C torsion pmf')\n",
    "plt.xlabel(r'$\\phi$ (rad)')\n",
    "plt.ylabel('Relative free energy (kJ/mol)')\n",
    "plt.show()"
   ]
  },
  {
   "cell_type": "raw",
   "id": "d0d3f629",
   "metadata": {},
   "source": [
    "Tutorial uses an 'sm' function to smooth the plot? \n",
    "Function not defined or imported in the tutorial, therefore not included here."
   ]
  },
  {
   "cell_type": "code",
   "execution_count": 11,
   "id": "266ae008",
   "metadata": {},
   "outputs": [],
   "source": [
    "theta_indices = [0, 4, 7] # atoms for bend\n",
    "theta = md.compute_angles(traj, [theta_indices])"
   ]
  },
  {
   "cell_type": "code",
   "execution_count": 12,
   "id": "4fce769f",
   "metadata": {},
   "outputs": [
    {
     "data": {
      "image/png": "[encoded data removed]",
      "text/plain": [
       "<Figure size 432x288 with 1 Axes>"
      ]
     },
     "metadata": {
      "needs_background": "light"
     },
     "output_type": "display_data"
    }
   ],
   "source": [
    "thetacounts, binedges, otherstuff = plt.hist(theta, bins=90)\n",
    "plt.title('C1-C2-C3 angle')\n",
    "plt.xlabel(r'$\\theta$ (rad)')\n",
    "plt.ylabel('Counts')\n",
    "plt.show()"
   ]
  },
  {
   "cell_type": "code",
   "execution_count": 13,
   "id": "dae3e478",
   "metadata": {},
   "outputs": [
    {
     "data": {
      "image/png": "[encoded data removed]",
      "text/plain": [
       "<Figure size 432x288 with 1 Axes>"
      ]
     },
     "metadata": {
      "needs_background": "light"
     },
     "output_type": "display_data"
    }
   ],
   "source": [
    "thetacounts[thetacounts==0] = 0.1 # get rid of any bins with 0 counts/infinite energy\n",
    "pmf = -kB*Temp*np.log(thetacounts) # W(x) = -kT*ln[p(x)] = -kT*ln[n(x)] + C\n",
    "pmf = pmf - np.min(pmf) # subtract off minimum value so that energies start from 0\n",
    "\n",
    "bincenters = (binedges[1:] + binedges[:-1])/2 # compute centers of histogram bins\n",
    "\n",
    "plt.plot(bincenters, pmf)\n",
    "plt.title('C-C-C angle pmf')\n",
    "plt.xlabel(r'$\\theta$ (rad)')\n",
    "plt.ylabel('Relative free energy (kJ/mol)')\n",
    "plt.show()"
   ]
  },
  {
   "cell_type": "code",
   "execution_count": 14,
   "id": "c07bbdf7",
   "metadata": {},
   "outputs": [],
   "source": [
    "bond_indices = [0, 1] # atoms to define bond length\n",
    "bond_length = md.compute_distances(traj, [bond_indices])"
   ]
  },
  {
   "cell_type": "code",
   "execution_count": 15,
   "id": "21db31c2",
   "metadata": {},
   "outputs": [
    {
     "data": {
      "image/png": "[encoded data removed]",
      "text/plain": [
       "<Figure size 432x288 with 1 Axes>"
      ]
     },
     "metadata": {
      "needs_background": "light"
     },
     "output_type": "display_data"
    }
   ],
   "source": [
    "bondcounts, binedges, otherstuff = plt.hist(bond_length, bins=120)\n",
    "plt.title('C1-H11 bond length histogram')\n",
    "plt.xlabel('Bond length (nm)')\n",
    "plt.ylabel('Counts')\n",
    "plt.show()"
   ]
  },
  {
   "cell_type": "code",
   "execution_count": null,
   "id": "a7f90505",
   "metadata": {},
   "outputs": [],
   "source": []
  }
 ],
 "metadata": {
  "kernelspec": {
   "display_name": "Python 3",
   "language": "python",
   "name": "python3"
  },
  "language_info": {
   "codemirror_mode": {
    "name": "ipython",
    "version": 3
   },
   "file_extension": ".py",
   "mimetype": "text/x-python",
   "name": "python",
   "nbconvert_exporter": "python",
   "pygments_lexer": "ipython3",
   "version": "3.6.13"
  }
 },
 "nbformat": 4,
 "nbformat_minor": 5
}
