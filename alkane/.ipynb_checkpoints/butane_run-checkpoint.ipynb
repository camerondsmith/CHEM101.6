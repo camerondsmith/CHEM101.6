{
 "cells": [
  {
   "cell_type": "code",
   "execution_count": 1,
   "id": "f6343416",
   "metadata": {},
   "outputs": [],
   "source": [
    "from simtk.openmm import app\n",
    "import simtk.openmm as mm\n",
    "from simtk import unit\n",
    "pdb = app.PDBFile('butane.pdb')\n",
    "forcefield = app.ForceField('butane.gaff2.xml')\n",
    "system = forcefield.createSystem(pdb.topology, nonbondedMethod=app.NoCutoff, constraints=app.HBonds)\n",
    "integrator = mm.LangevinIntegrator(298.15*unit.kelvin, 5.0/unit.picoseconds, 2.0*unit.femtoseconds)\n",
    "integrator.setConstraintTolerance(1e-5)\n",
    "platform = mm.Platform.getPlatformByName('Reference')\n",
    "simulation = app.Simulation(pdb.topology, system, integrator, platform)\n",
    "simulation.context.setPositions(pdb.positions)"
   ]
  },
  {
   "cell_type": "code",
   "execution_count": 2,
   "id": "20006fe9",
   "metadata": {},
   "outputs": [
    {
     "name": "stdout",
     "output_type": "stream",
     "text": [
      "Minimizing...\n",
      "Potential energy before minimization is 5.797528654036221 kJ/mol\n",
      "Potential energy after minimization is 5.295784444937283 kJ/mol\n"
     ]
    }
   ],
   "source": [
    "print('Minimizing...')\n",
    "\n",
    "st = simulation.context.getState(getPositions=True,getEnergy=True)\n",
    "print(F\"Potential energy before minimization is {st.getPotentialEnergy()}\")\n",
    "\n",
    "simulation.minimizeEnergy(maxIterations=100)\n",
    "\n",
    "st = simulation.context.getState(getPositions=True,getEnergy=True)\n",
    "print(F\"Potential energy after minimization is {st.getPotentialEnergy()}\")"
   ]
  },
  {
   "cell_type": "code",
   "execution_count": 3,
   "id": "bca60607",
   "metadata": {},
   "outputs": [
    {
     "name": "stdout",
     "output_type": "stream",
     "text": [
      "Equilibrating...\n",
      "#\"Step\",\"Potential Energy (kJ/mole)\",\"Temperature (K)\"\n",
      "250,38.83997686308777,296.00199526332966\n",
      "500,36.7414453790688,232.99176983668775\n",
      "750,44.26639048587811,301.3702720036206\n",
      "1000,65.54562828019894,174.88236425437617\n",
      "1250,49.5073748862966,208.9955857678726\n",
      "1500,41.683577084716696,336.32967833318537\n",
      "1750,33.475886535670455,238.80929946012353\n",
      "2000,36.48014105075646,220.7771799758974\n",
      "2250,39.94647738435991,198.41794850450734\n",
      "2500,43.83213578098536,255.59867430720945\n",
      "2750,55.85256824786745,223.89218397064772\n",
      "3000,32.353997161327,233.25732198435824\n",
      "3250,46.37287672718105,341.9117673392793\n",
      "3500,43.254549451707526,320.39439211368057\n",
      "3750,38.4351740514785,214.03804548844715\n",
      "4000,44.44168324671058,199.77088170294215\n",
      "4250,56.170556184356215,239.31102574483762\n",
      "4500,27.03882008194017,382.01946404419397\n",
      "4750,34.62831157292455,431.04051000157654\n",
      "5000,35.374248318132715,375.93081678442627\n"
     ]
    }
   ],
   "source": [
    "from sys import stdout\n",
    "\n",
    "print('Equilibrating...')\n",
    "\n",
    "simulation.reporters.append(app.StateDataReporter(stdout, 250, step=True, \n",
    "    potentialEnergy=True, temperature=True, separator=','))\n",
    "simulation.context.setVelocitiesToTemperature(150.0*unit.kelvin)\n",
    "simulation.step(5000)"
   ]
  },
  {
   "cell_type": "code",
   "execution_count": 4,
   "id": "63e4ccd9",
   "metadata": {},
   "outputs": [
    {
     "name": "stdout",
     "output_type": "stream",
     "text": [
      "Running Production\n",
      "#\"Step\",\"Time (ps)\",\"Potential Energy (kJ/mole)\",\"Temperature (K)\",\"Speed (ns/day)\"\n",
      "500000,999.9999999901769,40.551067060594654,340.14791348175845,0\n",
      "1000000,1999.9999999665301,27.989678301312296,413.9157745339153,1.6e+04\n",
      "1500000,2999.9999999428833,44.928687119803925,206.81584641435276,1.62e+04\n",
      "2000000,3999.9999999192364,37.430259360990675,223.4737310718208,1.62e+04\n",
      "2500000,5000.000000101135,32.738994912138764,299.3885118996426,1.62e+04\n",
      "3000000,6000.000000304862,37.964568541153675,392.57862738849326,1.61e+04\n",
      "3500000,7000.0000005085885,42.151228851459884,210.79919239340825,1.6e+04\n",
      "4000000,8000.000000712315,42.04788664619152,285.4062132736866,1.59e+04\n",
      "4500000,9000.000000916041,38.123257968366005,487.5319382922884,1.59e+04\n",
      "5000000,10000.000001119768,38.30356123475107,249.74703784693568,1.58e+04\n",
      "5500000,11000.000001323495,37.50206049422909,328.3335478595402,1.58e+04\n",
      "6000000,12000.000001527222,41.72257286448021,232.02961150192934,1.59e+04\n",
      "6500000,13000.000001730948,48.67567244669439,206.85576548789248,1.59e+04\n",
      "7000000,14000.000001934675,38.43280894327582,247.99127005986267,1.59e+04\n",
      "7500000,15000.000002138402,34.202076741608124,357.8443726083235,1.59e+04\n",
      "8000000,16000.000002342129,64.33378913796716,327.7064210609753,1.59e+04\n",
      "8500000,17000.000002545854,52.639037321131966,248.26619928976712,1.59e+04\n",
      "9000000,18000.00000274958,26.888247787712434,305.10135656897825,1.59e+04\n",
      "9500000,19000.000002953308,41.52252997556192,253.93574413619146,1.59e+04\n",
      "10000000,20000.000003157034,18.287242281833834,359.9889054674963,1.6e+04\n",
      "10500000,21000.00000336076,42.80692873240176,266.0150017757933,1.6e+04\n",
      "11000000,22000.000003564488,39.56878982174153,314.89914901054703,1.6e+04\n",
      "11500000,23000.000003768215,23.003117071287917,218.09646025992382,1.6e+04\n",
      "12000000,24000.00000397194,57.68519664890019,174.46708923084267,1.6e+04\n",
      "12500000,25000.00000417567,31.958293605516335,329.22089659697843,1.6e+04\n",
      "13000000,26000.000004379395,54.129833567742175,277.30378226225906,1.6e+04\n",
      "13500000,27000.000004583122,28.441701971334233,272.8742187994375,1.6e+04\n",
      "14000000,28000.00000478685,39.87050374283669,189.14156216450795,1.6e+04\n",
      "14500000,29000.000004990576,56.627093454800736,333.4438746917286,1.6e+04\n",
      "15000000,30000.000005194303,45.37985928922727,264.2130889976516,1.6e+04\n",
      "15500000,31000.00000539803,44.220588440846186,361.8863726308904,1.6e+04\n",
      "16000000,32000.000005601756,47.1812239357589,272.32761521287426,1.6e+04\n",
      "16500000,33000.00000580548,44.25383059281417,524.1933292836137,1.6e+04\n",
      "17000000,34000.000006009206,44.29635677568105,278.4783299747284,1.6e+04\n",
      "17500000,35000.00000621293,31.818568140509065,302.35027433074686,1.6e+04\n",
      "18000000,36000.00000641666,49.1509469440807,228.4976417667083,1.6e+04\n",
      "18500000,37000.00000662039,36.559525490384594,291.0095552611078,1.6e+04\n",
      "19000000,38000.00000682411,37.81619495114419,255.52876484829622,1.6e+04\n",
      "19500000,39000.00000702784,32.20467732278505,191.1104215435844,1.6e+04\n",
      "20000000,40000.00000723157,50.48614315707651,252.21838410088986,1.6e+04\n",
      "Done!\n",
      "Time required for simulation: 216.35153722763062 seconds\n"
     ]
    }
   ],
   "source": [
    "import time as time\n",
    "\n",
    "print('Running Production')\n",
    "\n",
    "# begin timer\n",
    "tinit=time.time()\n",
    "\n",
    "# clear simulation reporters\n",
    "simulation.reporters.clear()\n",
    "\n",
    "# reinitialize simulation reporters. Done because we want different information printed from the production run\n",
    "# than the equilibriation run. \n",
    "# output basic simulation information below every 500,000 steps - 2 x 500,000 = 1,000,000fs or 1ns\n",
    "simulation.reporters.append(app.StateDataReporter(stdout, 500000, step=True, time=True, potentialEnergy=True,\n",
    "                            temperature=True, speed=True, separator=','))\n",
    "\n",
    "# write traj to a DCD file every 100 steps - 0.2ps\n",
    "simulation.reporters.append(app.DCDReporter('butane_sim.dcd', 100))\n",
    "\n",
    "# run simulation for 2.0x10^7 steps - 40ns\n",
    "simulation.step(20000000)\n",
    "\n",
    "# end timer\n",
    "tfinal=time.time()\n",
    "print('Done!')\n",
    "print('Time required for simulation:', tfinal-tinit, 'seconds')"
   ]
  },
  {
   "cell_type": "code",
   "execution_count": null,
   "id": "d7346c90",
   "metadata": {},
   "outputs": [],
   "source": []
  }
 ],
 "metadata": {
  "kernelspec": {
   "display_name": "Python 3",
   "language": "python",
   "name": "python3"
  },
  "language_info": {
   "codemirror_mode": {
    "name": "ipython",
    "version": 3
   },
   "file_extension": ".py",
   "mimetype": "text/x-python",
   "name": "python",
   "nbconvert_exporter": "python",
   "pygments_lexer": "ipython3",
   "version": "3.6.13"
  }
 },
 "nbformat": 4,
 "nbformat_minor": 5
}
