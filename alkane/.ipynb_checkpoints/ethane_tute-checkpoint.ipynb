{
 "cells": [
  {
   "cell_type": "code",
   "execution_count": 23,
   "id": "f6343416",
   "metadata": {},
   "outputs": [],
   "source": [
    "from simtk.openmm import app\n",
    "import simtk.openmm as mm\n",
    "from simtk import unit\n",
    "pdb = app.PDBFile('ethane.pdb')\n",
    "forcefield = app.ForceField('ethane.gaff2.xml')\n",
    "system = forcefield.createSystem(pdb.topology, nonbondedMethod=app.NoCutoff, constraints=app.HBonds)\n",
    "integrator = mm.LangevinIntegrator(298.15*unit.kelvin, 5.0/unit.picoseconds, 2.0*unit.femtoseconds)\n",
    "integrator.setConstraintTolerance(1e-5)\n",
    "platform = mm.Platform.getPlatformByName('Reference')\n",
    "simulation = app.Simulation(pdb.topology, system, integrator, platform)\n",
    "simulation.context.setPositions(pdb.positions)"
   ]
  },
  {
   "cell_type": "code",
   "execution_count": 24,
   "id": "20006fe9",
   "metadata": {},
   "outputs": [
    {
     "name": "stdout",
     "output_type": "stream",
     "text": [
      "Minimizing...\n",
      "Potential energy before minimization is 4.467818224810632 kJ/mol\n",
      "Potential energy after minimization is 4.389967678922688 kJ/mol\n"
     ]
    }
   ],
   "source": [
    "print('Minimizing...')\n",
    "\n",
    "st = simulation.context.getState(getPositions=True,getEnergy=True)\n",
    "print(F\"Potential energy before minimization is {st.getPotentialEnergy()}\")\n",
    "\n",
    "simulation.minimizeEnergy(maxIterations=100)\n",
    "\n",
    "st = simulation.context.getState(getPositions=True,getEnergy=True)\n",
    "print(F\"Potential energy after minimization is {st.getPotentialEnergy()}\")"
   ]
  },
  {
   "cell_type": "code",
   "execution_count": 25,
   "id": "bca60607",
   "metadata": {},
   "outputs": [
    {
     "name": "stdout",
     "output_type": "stream",
     "text": [
      "Equilibrating...\n",
      "#\"Step\",\"Potential Energy (kJ/mole)\",\"Temperature (K)\"\n",
      "100,10.485636927643162,182.04926427483915\n",
      "200,18.79324224860203,260.97669891596746\n",
      "300,17.822706918465922,265.72097772639427\n",
      "400,18.29943344831253,416.88923385293293\n",
      "500,28.481168590782758,491.69678505966573\n",
      "600,16.31731513499158,341.7912799540316\n",
      "700,12.999818555924424,294.92489316042014\n",
      "800,21.280190734036246,352.0645965299952\n",
      "900,31.32322879261704,193.72898442542933\n",
      "1000,22.938038376254195,305.29639723179486\n",
      "1100,10.695653343802238,273.8664676711135\n",
      "1200,18.212659505158342,236.93783654540846\n",
      "1300,16.20874226055811,180.7293610550918\n",
      "1400,13.917486659673134,326.3988459204209\n",
      "1500,23.49367113969725,371.3145304724672\n",
      "1600,11.266318195390564,330.066607772836\n",
      "1700,23.988026592806587,359.7825985373077\n",
      "1800,14.521246855443675,321.93668996815916\n",
      "1900,18.832856727694633,382.14894421209146\n",
      "2000,35.16259215322299,295.2097640166719\n",
      "2100,19.173218425254024,260.2698708921483\n",
      "2200,13.637847782697506,266.63347911622253\n",
      "2300,22.84696225861866,316.0368732728402\n",
      "2400,30.608018658411073,467.6542753730136\n",
      "2500,33.86968366596618,195.66675001376728\n"
     ]
    }
   ],
   "source": [
    "from sys import stdout\n",
    "\n",
    "print('Equilibrating...')\n",
    "\n",
    "simulation.reporters.append(app.StateDataReporter(stdout, 100, step=True, \n",
    "    potentialEnergy=True, temperature=True, separator=','))\n",
    "simulation.context.setVelocitiesToTemperature(150.0*unit.kelvin)\n",
    "simulation.step(2500)"
   ]
  },
  {
   "cell_type": "code",
   "execution_count": 26,
   "id": "63e4ccd9",
   "metadata": {},
   "outputs": [
    {
     "name": "stdout",
     "output_type": "stream",
     "text": [
      "Running Production\n",
      "#\"Step\",\"Time (ps)\",\"Potential Energy (kJ/mole)\",\"Temperature (K)\",\"Speed (ns/day)\"\n",
      "250000,500.0000000016593,33.17603828689481,469.9103783078711,0\n",
      "500000,999.9999999901769,28.19311480241771,296.6876991144944,3.19e+04\n",
      "750000,1499.9999999783536,28.861768550070046,330.84727381692375,3.12e+04\n",
      "1000000,1999.9999999665301,18.370482235291185,385.4242272272084,3.15e+04\n",
      "1250000,2499.9999999547067,23.364981426442856,109.6287929705714,3.18e+04\n",
      "1500000,2999.9999999428833,13.483773642688366,353.6593473233898,3.19e+04\n",
      "1750000,3499.99999993106,17.433633415828247,206.6215606104663,3.2e+04\n",
      "2000000,3999.9999999192364,29.00135835631954,243.68775990446574,3.21e+04\n",
      "2250000,4499.9999999992715,26.850370138240912,284.7271176978858,3.22e+04\n",
      "2500000,5000.000000101135,19.206747845884554,389.4044541629241,3.21e+04\n",
      "2750000,5500.000000202998,13.978203060936707,357.19618636516185,3.2e+04\n",
      "3000000,6000.000000304862,13.912241567434599,519.8493807522063,3.2e+04\n",
      "3250000,6500.000000406725,19.737312034851158,225.68375832527727,3.2e+04\n",
      "3500000,7000.0000005085885,19.090531511279448,305.19627215128094,3.19e+04\n",
      "3750000,7500.000000610452,20.782212988650333,291.38520470200217,3.15e+04\n",
      "4000000,8000.000000712315,22.148025873691434,131.84833577406363,3.14e+04\n",
      "4250000,8500.000000814178,16.775747560547796,360.7509020299947,3.13e+04\n",
      "4500000,9000.000000916041,23.901799439385798,423.2698938823011,3.12e+04\n",
      "4750000,9500.000001017905,28.107072011549853,125.56039066080729,3.12e+04\n",
      "5000000,10000.000001119768,21.092264749371623,458.1573800944725,3.1e+04\n",
      "5250000,10500.000001221631,17.951652198916285,535.2414458623659,3.09e+04\n",
      "5500000,11000.000001323495,18.67808123486182,341.1323887555398,3.09e+04\n",
      "5750000,11500.000001425358,15.61811024898253,342.09447113768266,3.09e+04\n",
      "6000000,12000.000001527222,29.292393630470276,195.8975832503101,3.09e+04\n",
      "6250000,12500.000001629085,11.487991871355153,212.49748573681003,3.09e+04\n",
      "6500000,13000.000001730948,15.341575738387874,291.48705512684074,3.08e+04\n",
      "6750000,13500.000001832812,17.042288191858148,237.09928215409866,3.09e+04\n",
      "7000000,14000.000001934675,25.339175272846745,497.37138845757124,3.09e+04\n",
      "7250000,14500.000002036539,14.361257408050086,336.6355274057442,3.09e+04\n",
      "7500000,15000.000002138402,18.917331299255924,300.95229525778785,3.1e+04\n",
      "7750000,15500.000002240266,19.795197619337074,384.4834241523599,3.1e+04\n",
      "8000000,16000.000002342129,24.657952333301722,488.6361956982581,3.1e+04\n",
      "8250000,16500.00000244399,28.912377068316577,207.26782648117333,3.09e+04\n",
      "8500000,17000.000002545854,37.894956601645625,248.8334185446074,3.1e+04\n",
      "8750000,17500.000002647717,17.88520212917441,272.5368181188397,3.1e+04\n",
      "9000000,18000.00000274958,25.43147089305642,260.0355464307815,3.1e+04\n",
      "9250000,18500.000002851444,40.93048514227905,277.91831488007347,3.11e+04\n",
      "9500000,19000.000002953308,29.79317848111984,328.68580165156254,3.11e+04\n",
      "9750000,19500.00000305517,19.07679136435017,278.9696960503686,3.11e+04\n",
      "10000000,20000.000003157034,13.032171923531397,85.80863817161398,3.11e+04\n",
      "Done!\n",
      "Time required for simulation: 55.58194398880005 seconds\n"
     ]
    }
   ],
   "source": [
    "import time as time\n",
    "\n",
    "print('Running Production')\n",
    "\n",
    "# begin timer\n",
    "tinit=time.time()\n",
    "\n",
    "# clear simulation reporters\n",
    "simulation.reporters.clear()\n",
    "\n",
    "# reinitialize simulation reporters. Done because we want different information printed from the production run\n",
    "# than the equilibriation run. \n",
    "# output basic simulation information below every 250,000 steps - 2 x 250,000 = 500,000fs or 500 ps\n",
    "simulation.reporters.append(app.StateDataReporter(stdout, 250000, step=True, time=True, potentialEnergy=True,\n",
    "                            temperature=True, speed=True, separator=','))\n",
    "\n",
    "# write traj to a DCD file every 100 steps - 0.2ps\n",
    "simulation.reporters.append(app.DCDReporter('ethane_sim.dcd', 100))\n",
    "\n",
    "# run simulation for 1.0x10^7 steps - 20ns\n",
    "simulation.step(10000000)\n",
    "\n",
    "# end timer\n",
    "tfinal=time.time()\n",
    "print('Done!')\n",
    "print('Time required for simulation:', tfinal-tinit, 'seconds')"
   ]
  },
  {
   "cell_type": "code",
   "execution_count": null,
   "id": "d7346c90",
   "metadata": {},
   "outputs": [],
   "source": []
  }
 ],
 "metadata": {
  "kernelspec": {
   "display_name": "Python 3",
   "language": "python",
   "name": "python3"
  },
  "language_info": {
   "codemirror_mode": {
    "name": "ipython",
    "version": 3
   },
   "file_extension": ".py",
   "mimetype": "text/x-python",
   "name": "python",
   "nbconvert_exporter": "python",
   "pygments_lexer": "ipython3",
   "version": "3.6.13"
  }
 },
 "nbformat": 4,
 "nbformat_minor": 5
}
